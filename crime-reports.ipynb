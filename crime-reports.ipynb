{
 "cells": [
  {
   "cell_type": "markdown",
   "metadata": {},
   "source": [
    "## Building a database with PostgreSQL for crime reports in Boston\n",
    "\n",
    "\n",
    "In this project, we will use the basic concepts of PostgreSQL to build a database for storing data related with crimes that occurred in Boston. This dataset is available in a file called `boston.csv`. A first output of the first rows is presented here:\n",
    "\n",
    "| incident_number \t| offense_code \t|      description     \t|    date    \t| day_of_the_week \t|     lat     \t|     long     \t|\n",
    "|:---------------:\t|:------------:\t|:--------------------:\t|:----------:\t|:---------------:\t|:-----------:\t|:------------:\t|\n",
    "| 1               \t| 619          \t| LARCENY ALL OTHERS   \t| 2018-09-02 \t| Sunday          \t| 42.35779134 \t| -71.13937053 \t|\n",
    "| 2               \t| 1402         \t| VANDALISM            \t| 2018-08-21 \t| Tuesday         \t| 42.30682138 \t| -71.06030035 \t|\n",
    "| 3               \t| 3410         \t| TOWED MOTOR VEHICLE  \t| 2018-09-03 \t| Monday          \t| 42.34658879 \t| -71.07242943 \t|\n",
    "| 4               \t| 3114         \t| INVESTIGATE PROPERTY \t| 2018-09-03 \t| Monday          \t| 42.33418175 \t| -71.07866441 \t|\n",
    "\n",
    "The first column represents the identifier of the crime. The second contains a numeric identifier code for the committed crime. The third represents a description of the crime. The next two rows contain the date on which the crime happened and the corresponding day of the week. Finally, the last two columns represent the location of the crime with a latitude and longitude coordinates.\n",
    "\n",
    "The main goal of the project is to create a database named `crimes_db` with a table – `boston_crimes` – with appropriate datatypes for storing the data from the `boston.csv` file. The table will be created inside a schema named `crimes`. With respect to the user management, we will create two groups with different privileges to interact with the database: `readonly` and `readwrite`. For both of these groups we will create some fictitious users.\n",
    "\n",
    "### Step 1: Creating the database\n",
    "\n",
    "We will start by creating a database for storing our crime data as well as a schema for containing the tables."
   ]
  },
  {
   "cell_type": "code",
   "execution_count": 1,
   "metadata": {
    "collapsed": false
   },
   "outputs": [],
   "source": [
    "import psycopg2\n",
    "\n",
    "# Connection to the main db\n",
    "conn = psycopg2.connect(\"dbname=dq user=dq\") # Default database\n",
    "cursor = conn.cursor()\n",
    "\n",
    "# Creation of the db\n",
    "conn.autocommit = True\n",
    "cursor.execute(\"CREATE DATABASE crime_db;\")\n",
    "conn.autocommit = False\n",
    "conn.close() # Closing connection from main db\n",
    "\n",
    "# Connection to the new db\n",
    "conn = psycopg2.connect(\"dbname=crime_db user=dq\")\n",
    "cursor = conn.cursor()\n",
    "\n",
    "# Creation of the new schema\n",
    "cursor.execute(\"CREATE SCHEMA crimes;\")"
   ]
  },
  {
   "cell_type": "code",
   "execution_count": null,
   "metadata": {
    "collapsed": false
   },
   "outputs": [],
   "source": [
    "# Run this cell if deletion of the db, groups or users is needed\n",
    "\n",
    "# conn.autocommit = True\n",
    "# cursor.execute(\"DROP DATABASE IF EXISTS crime_db\")\n",
    "# conn.autocommit = False\n",
    "# cursor.execute(\"DROP USER IF EXISTS data_analyst, data_scientist\")\n",
    "# cursor.execute(\"DROP GROUP IF EXISTS readonly, readwrite\")\n",
    "# conn.commit()"
   ]
  },
  {
   "cell_type": "markdown",
   "metadata": {},
   "source": [
    "We now have a database and a schema, so we are ready to start creating tables.\n",
    "\n",
    "### Step 2: Gathering the data\n",
    "\n",
    "Before to the creation of the new table, let's gather some data about our crime dataset so that we can more easily select the right datatypes to use in our table. Let's start by reading the column names from the `boston.csv` file as well as the first row."
   ]
  },
  {
   "cell_type": "code",
   "execution_count": 2,
   "metadata": {
    "collapsed": false
   },
   "outputs": [
    {
     "name": "stdout",
     "output_type": "stream",
     "text": [
      "['incident_number', 'offense_code', 'description', 'date', 'day_of_the_week', 'lat', 'long']\n",
      "['1', '619', 'LARCENY ALL OTHERS', '2018-09-02', 'Sunday', '42.35779134', '-71.13937053']\n"
     ]
    }
   ],
   "source": [
    "import csv\n",
    "\n",
    "with open('boston.csv') as file:\n",
    "    reader = list(csv.reader(file))\n",
    "    col_headers = reader[0]\n",
    "    first_row = reader[1]\n",
    "    \n",
    "print(col_headers)\n",
    "print(first_row)"
   ]
  },
  {
   "cell_type": "markdown",
   "metadata": {},
   "source": [
    "We now have access to the column headers and the first row of data. This will help us when we create the table as we will not have to remember the names of the columns and using the first row of data we can easily recall what kind of data is stored in each column.\n",
    "\n",
    "Before we create a table for storing the crime data, we need to identify the proper datatypes for the columns. To help us with that, let's create a function — `get_col_set()` — that given the name of a CSV file and a column index (starting at 0) that computes a Python set with all distinct values contained in that column. \n",
    "\n",
    "This function will be useful for two reasons:\n",
    "\n",
    "- Checking whether an enumerated datatype might be a good choice for representing a column.\n",
    "- Computing the maximum length of any text-like column to select appropriate sizes for `VARCHAR` columns.\n",
    "\n",
    "Columns with a low number of distinct values tend to be good candidates for enumerated datatypes."
   ]
  },
  {
   "cell_type": "code",
   "execution_count": 3,
   "metadata": {
    "collapsed": true
   },
   "outputs": [],
   "source": [
    "def get_col_set(csv_filename, col_index):\n",
    "    \"\"\"\n",
    "    Inputs:\n",
    "        csv_filename: the name of a CSV file\n",
    "        col_index: the index of a column of that CSV file\n",
    "    Output:\n",
    "        a Python set that contains all distinct values from that column\n",
    "    \"\"\"\n",
    "    import csv\n",
    "    default_set = set()\n",
    "    with open(csv_filename) as file:\n",
    "        next(file) # Skip the header row\n",
    "        rows = list(csv.reader(file))\n",
    "        for row in rows:\n",
    "            default_set.add(row[col_index])\n",
    "    return default_set"
   ]
  },
  {
   "cell_type": "code",
   "execution_count": 4,
   "metadata": {
    "collapsed": false
   },
   "outputs": [
    {
     "name": "stdout",
     "output_type": "stream",
     "text": [
      "Column: incident_number\t- Nr of different values: 298329\n",
      "Column: offense_code\t- Nr of different values: 219\n",
      "Column: description\t- Nr of different values: 239\n",
      "Column: date\t- Nr of different values: 1177\n",
      "Column: day_of_the_week\t- Nr of different values: 7\n",
      "Column: lat\t- Nr of different values: 18177\n",
      "Column: long\t- Nr of different values: 18177\n"
     ]
    }
   ],
   "source": [
    "for i in range(len(col_headers)):\n",
    "    print('Column: {}\\t- Nr of different values: {}'.format(col_headers[i], len(get_col_set('boston.csv', i))))"
   ]
  },
  {
   "cell_type": "markdown",
   "metadata": {},
   "source": [
    "Another important aspect is to know the longest word in any column containing textual data. We can actually use the previous function for computing this:\n",
    "\n",
    "- Use the `get_col_set()` function to get the distinct values of that column into a variable named `col_values`.\n",
    "- Iterate over the elements of `col_values` and find the one which is the longest.\n",
    "\n",
    "There are two textual column in the data set, namely, the `description` and `day_of_the_week` columns."
   ]
  },
  {
   "cell_type": "code",
   "execution_count": 5,
   "metadata": {
    "collapsed": false
   },
   "outputs": [
    {
     "name": "stdout",
     "output_type": "stream",
     "text": [
      "Max len for description column: 58\n",
      "Max len for day_of_the_week column: 9\n"
     ]
    }
   ],
   "source": [
    "# Description column\n",
    "col_values = get_col_set('boston.csv', 2)\n",
    "max_len = 0\n",
    "for value in col_values:\n",
    "    max_len = max(len(value), max_len)\n",
    "print('Max len for {} column: {}'.format(col_headers[2], max_len))\n",
    "\n",
    "# Day of the week column\n",
    "col_values = get_col_set('boston.csv', 4)\n",
    "max_len = 0\n",
    "for value in col_values:\n",
    "    max_len = max(len(value), max_len)\n",
    "print('Max len for {} column: {}'.format(col_headers[4], max_len))"
   ]
  },
  {
   "cell_type": "markdown",
   "metadata": {},
   "source": [
    "### Step 3: Creating the table and loading the data\n",
    "\n",
    "Now that we have all the insights we want, it's time to create the table."
   ]
  },
  {
   "cell_type": "code",
   "execution_count": 6,
   "metadata": {
    "collapsed": true
   },
   "outputs": [],
   "source": [
    "# Creation of the enum datatypes\n",
    "cursor.execute(\"CREATE TYPE weekday AS ENUM ('Monday', 'Tuesday', 'Wednesday', 'Thursday', 'Friday', 'Saturday', 'Sunday');\")\n",
    "\n",
    "# Creation of the table\n",
    "cursor.execute(\"\"\"\n",
    "    CREATE TABLE crimes.boston_crimes (\n",
    "        incident_number integer PRIMARY KEY,\n",
    "        offense_code integer,\n",
    "        description varchar(100),\n",
    "        date DATE,\n",
    "        day_of_the_week weekday,\n",
    "        lat decimal,\n",
    "        long decimal\n",
    ");\n",
    "\"\"\")"
   ]
  },
  {
   "cell_type": "markdown",
   "metadata": {},
   "source": [
    "We have create an enumerated datatype named `weekday` for the `day_of_the_week` column since there there only seven possible values.\n",
    "\n",
    "For the `incident_number` column we have decided to user the type `integer` and set it as the primary key. The same datatype was also used to represent the `offense_code` column.\n",
    "\n",
    "Since the `description` column has at most 58 characters we have decided to use the datatype `varchar(100)` for representing it. This leave some margin while not being so big that we will waste a lot of memory.\n",
    "\n",
    "The `date` was represented as the `date` datatype. Finally, for the latitude and longitude we used `decimal` datatypes to hold quite a lot of precision.\n",
    "\n",
    "Now that we have created the table, we can load the data into it."
   ]
  },
  {
   "cell_type": "code",
   "execution_count": 7,
   "metadata": {
    "collapsed": false
   },
   "outputs": [
    {
     "name": "stdout",
     "output_type": "stream",
     "text": [
      "Total rows loaded:  298329\n"
     ]
    }
   ],
   "source": [
    "# Loading the data to the table\n",
    "with open('boston.csv') as file:\n",
    "    cursor.copy_expert(\"COPY crimes.boston_crimes FROM STDIN WITH CSV HEADER;\", file)\n",
    "\n",
    "# Testing the data is loaded\n",
    "cursor.execute(\"SELECT * FROM crimes.boston_crimes;\")\n",
    "print('Total rows loaded: ', len(cursor.fetchall()))"
   ]
  },
  {
   "cell_type": "markdown",
   "metadata": {},
   "source": [
    "We have created a database with a schema inside it for hold data about crimes. We selected the right datatypes for storing the data, created a table and loaded the CSV containing crimes about Boston.\n",
    "\n",
    "### Step 4: User management\n",
    "\n",
    "Now it is time to handle users. For that, we will create two groups with different privileges: `readonly` and `readwrite`.\n",
    "\n",
    "By following the least privilege principle, the first step in doing so is to make sure that there are no privileges inherited from the public group and on the public schema. Doing this also makes it so that we do not need to revoke the privileges when we create users and groups because unless specified otherwise, privileges are not granted by default."
   ]
  },
  {
   "cell_type": "code",
   "execution_count": 8,
   "metadata": {
    "collapsed": false
   },
   "outputs": [],
   "source": [
    "# Revoke all privileges of the public group\n",
    "cursor.execute(\"REVOKE ALL ON SCHEMA public FROM public;\")\n",
    "cursor.execute(\"REVOKE ALL ON DATABASE crime_db FROM public;\")"
   ]
  },
  {
   "cell_type": "markdown",
   "metadata": {},
   "source": [
    "We have made sure that we are not going to inadvertently inherit privileges from the `public` group. The next step is to create our two users groups."
   ]
  },
  {
   "cell_type": "code",
   "execution_count": 9,
   "metadata": {
    "collapsed": false
   },
   "outputs": [],
   "source": [
    "# Creation of the new groups\n",
    "cursor.execute(\"CREATE GROUP readonly NOLOGIN;\")\n",
    "cursor.execute(\"CREATE GROUP readwrite NOLOGIN;\")\n",
    "\n",
    "# Granting connection privileges\n",
    "cursor.execute(\"GRANT CONNECT ON DATABASE crime_db TO readonly;\")\n",
    "cursor.execute(\"GRANT CONNECT ON DATABASE crime_db TO readwrite;\")\n",
    "\n",
    "# Granting usage privileges\n",
    "cursor.execute(\"GRANT USAGE ON SCHEMA crimes TO readonly;\")\n",
    "cursor.execute(\"GRANT USAGE ON SCHEMA crimes TO readwrite;\")\n",
    "\n",
    "# Granting specific privileges for each group\n",
    "cursor.execute(\"GRANT SELECT ON ALL TABLES IN SCHEMA crimes TO readonly;\")\n",
    "cursor.execute(\"GRANT SELECT, INSERT, UPDATE, DELETE ON ALL TABLES IN SCHEMA crimes TO readwrite;\")"
   ]
  },
  {
   "cell_type": "markdown",
   "metadata": {},
   "source": [
    "We have created a readonly group with NOLOGIN because it is a group and not a user. We grant the group the ability to connect to the crime_db and the ability to use the crimes schema.\n",
    "\n",
    "Then we deal with tables privileges by granting SELECT. We also add an extra line compared with what was asked. This extra line changes the way that privileges are given by default to the readonly group on new table that are created on the crimes schema. As we mentioned, by default not privileges are given. However we change is so that by default any user in the readonly group can issue select commands.\n",
    "\n",
    "We create a readwrite group with NOLOGIN because it is a group and not a user. We grant the group the ability to connect to the crime_db and the ability to use the crimes schema.\n",
    "\n",
    "Then we deal with tables privileges by granting SELECT, INSERT, UPDATE and DELETE. As before, we change the default privileges so that user in the readwrite group have these privileges if we ever create a new table on the crimes schema.\n",
    "\n",
    "With all of this done, the only thing that we need to do is create some users. We are going to create 2 users, one for each group:\n",
    "\n",
    "- A user named `data_analyst` with password `secret1` in the `readonly` group.\n",
    "\n",
    "- A user named `data_scientist` with password `secret2` in the `readwrite` group."
   ]
  },
  {
   "cell_type": "code",
   "execution_count": 10,
   "metadata": {
    "collapsed": false
   },
   "outputs": [],
   "source": [
    "# Creation of user 1\n",
    "cursor.execute(\"CREATE USER data_analyst WITH PASSWORD 'secret1';\")\n",
    "cursor.execute(\"GRANT readonly TO data_analyst;\")\n",
    "\n",
    "# Creation of user 2\n",
    "cursor.execute(\"CREATE USER data_scientist WITH PASSWORD 'secret2';\")\n",
    "cursor.execute(\"GRANT readwrite TO data_scientist;\")"
   ]
  },
  {
   "cell_type": "markdown",
   "metadata": {},
   "source": [
    "### Step 5: Testing the database\n",
    "\n",
    "It is a good practice to test that everything is configured as expected when we finish setting up the database. We can query Postgres internal tables to see this information.\n",
    "\n",
    "We can use SQL queries to check whether the objects have been created and that users and groups have the right privileges. This requires us to know the Postgres internal tables. We can query the `pg_roles` table to inspect privileges related to the database and the `information_schema.table_privileges` table to inspect table privileges."
   ]
  },
  {
   "cell_type": "code",
   "execution_count": 11,
   "metadata": {
    "collapsed": false
   },
   "outputs": [
    {
     "name": "stdout",
     "output_type": "stream",
     "text": [
      "('readonly', False, False, False, False)\n",
      "('readwrite', False, False, False, False)\n",
      "('data_analyst', False, False, False, True)\n",
      "('data_scientist', False, False, False, True)\n",
      "\n",
      "('readonly', 'SELECT')\n",
      "('readwrite', 'INSERT')\n",
      "('readwrite', 'SELECT')\n",
      "('readwrite', 'UPDATE')\n",
      "('readwrite', 'DELETE')\n"
     ]
    }
   ],
   "source": [
    "# Closing the current connection\n",
    "conn.commit()\n",
    "conn.close()\n",
    "\n",
    "# Connection to the database\n",
    "conn = psycopg2.connect(dbname=\"crime_db\", user=\"dq\")\n",
    "cursor = conn.cursor()\n",
    "\n",
    "# Checking users and groups\n",
    "cursor.execute(\"\"\"\n",
    "    SELECT rolname, rolsuper, rolcreaterole, rolcreatedb, rolcanlogin\n",
    "    FROM pg_roles\n",
    "    WHERE rolname IN ('readonly', 'readwrite', 'data_analyst', 'data_scientist');\n",
    "\"\"\")\n",
    "for user in cursor.fetchall():\n",
    "    print(user)\n",
    "print()\n",
    "\n",
    "# Checking privileges\n",
    "cursor.execute(\"\"\"\n",
    "    SELECT grantee, privilege_type\n",
    "    FROM information_schema.table_privileges\n",
    "    WHERE grantee IN ('readonly', 'readwrite');\n",
    "\"\"\")\n",
    "for user in cursor.fetchall():\n",
    "    print(user)\n",
    "\n",
    "# Closing the connection    \n",
    "conn.close()"
   ]
  },
  {
   "cell_type": "markdown",
   "metadata": {},
   "source": [
    "In the `pg_roles` table we can check database related privileges and for that we look at the following columns:\n",
    "\n",
    "- `rolname`: The name of the user / group that the privilege refers to.\n",
    "- `rolsuper`: Whether this user / group is a super user. It should be set to False on every user / group that we have created.\n",
    "- `rolcreaterole`: Whether user / group can create users, groups or roles. It should be False on every user / group that we have created.\n",
    "- `rolcreatedb`: Whether user / group can create databases. It should be False on every user / group that we have created.\n",
    "- `rolcanlogin`: Whether user / group can login. It should be True on the users and False on the groups that we have created.\n",
    "\n",
    "In the `information_schema.table_privileges` we can check privileges related to SQL queries on tables. We have listed the privileges of each group that we have created."
   ]
  }
 ],
 "metadata": {
  "kernelspec": {
   "display_name": "Python 3",
   "language": "python",
   "name": "python3"
  },
  "language_info": {
   "codemirror_mode": {
    "name": "ipython",
    "version": 3
   },
   "file_extension": ".py",
   "mimetype": "text/x-python",
   "name": "python",
   "nbconvert_exporter": "python",
   "pygments_lexer": "ipython3",
   "version": "3.4.3"
  }
 },
 "nbformat": 4,
 "nbformat_minor": 2
}
